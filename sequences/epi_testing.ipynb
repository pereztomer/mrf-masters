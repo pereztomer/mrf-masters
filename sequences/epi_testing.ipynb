{
 "cells": [
  {
   "metadata": {
    "ExecuteTime": {
     "end_time": "2025-02-02T10:05:54.587453Z",
     "start_time": "2025-02-02T10:05:51.785360Z"
    }
   },
   "cell_type": "code",
   "source": [
    "\"\"\"\n",
    "Demo low-performance EPI sequence without ramp-sampling.\n",
    "\"\"\"\n",
    "\n",
    "import numpy as np\n",
    "\n",
    "import pypulseq as pp\n",
    "import matplotlib\n",
    "import MRzeroCore as mr0\n",
    "import matplotlib.pyplot as plt\n",
    "import torch\n",
    "from seq_utils import plot_signal\n",
    "\n",
    "matplotlib.use('TkAgg')"
   ],
   "id": "initial_id",
   "outputs": [],
   "execution_count": 1
  },
  {
   "metadata": {
    "ExecuteTime": {
     "end_time": "2025-02-02T10:05:56.255220Z",
     "start_time": "2025-02-02T10:05:56.223119Z"
    }
   },
   "cell_type": "code",
   "source": "torch.cuda.is_available()",
   "id": "74848a0fa044544d",
   "outputs": [
    {
     "data": {
      "text/plain": [
       "True"
      ]
     },
     "execution_count": 2,
     "metadata": {},
     "output_type": "execute_result"
    }
   ],
   "execution_count": 2
  },
  {
   "metadata": {
    "ExecuteTime": {
     "end_time": "2025-01-14T09:16:23.239607Z",
     "start_time": "2025-01-14T09:16:23.203790Z"
    }
   },
   "cell_type": "code",
   "source": [
    "# plot = True\n",
    "# write_seq = True\n",
    "# seq_filename = 'epi_pypulseq.seq'\n",
    "# # ======\n",
    "# # SETUP\n",
    "# # ======\n",
    "# R=1\n",
    "# seq = pp.Sequence()  # Create a new sequence object\n",
    "# # Define FOV and resolution\n",
    "# fov = 220e-3\n",
    "# Nx = 256\n",
    "# Ny = 256 * 1//R\n",
    "# slice_thickness = 3e-3  # Slice thickness\n",
    "# n_slices = 1\n",
    "# \n",
    "# # Set system limits\n",
    "# system = pp.Opts(\n",
    "#     max_grad=32,\n",
    "#     grad_unit='mT/m',\n",
    "#     max_slew=130,\n",
    "#     slew_unit='T/m/s',\n",
    "#     rf_ringdown_time=30e-6,\n",
    "#     rf_dead_time=100e-6,\n",
    "# )\n",
    "# \n",
    "# # ======\n",
    "# # CREATE EVENTS\n",
    "# # ======\n",
    "# # Create 90 degree slice selection pulse and gradient\n",
    "# rf, gz, _ = pp.make_sinc_pulse(\n",
    "#     flip_angle=np.pi / 2,\n",
    "#     system=system,\n",
    "#     duration=3e-3,\n",
    "#     slice_thickness=slice_thickness,\n",
    "#     apodization=0.5,\n",
    "#     time_bw_product=4,\n",
    "#     return_gz=True,\n",
    "# )\n",
    "# \n",
    "# # Define other gradients and ADC events\n",
    "# delta_k = 1 / fov\n",
    "# k_width = Nx * delta_k\n",
    "# dwell_time = 4e-6\n",
    "# readout_time = Nx * dwell_time\n",
    "# flat_time = np.ceil(readout_time * 1e5) * 1e-5  # round-up to the gradient raster\n",
    "# gx = pp.make_trapezoid(\n",
    "#     channel='x',\n",
    "#     system=system,\n",
    "#     amplitude=k_width / readout_time,\n",
    "#     flat_time=flat_time,\n",
    "# )\n",
    "# adc = pp.make_adc(\n",
    "#     num_samples=Nx,\n",
    "#     duration=readout_time,\n",
    "#     delay=gx.rise_time + flat_time / 2 - (readout_time - dwell_time) / 2,\n",
    "# )\n",
    "# \n",
    "# # Pre-phasing gradients\n",
    "# pre_time = 8e-4\n",
    "# gx_pre = pp.make_trapezoid(channel='x', system=system, area=-gx.area / 2, duration=pre_time)\n",
    "# gz_reph = pp.make_trapezoid(channel='z', system=system, area=-gz.area / 2, duration=pre_time)\n",
    "# gy_pre = pp.make_trapezoid(channel='y', system=system, area=-Ny / 2 * delta_k, duration=pre_time)\n",
    "# \n",
    "# # Phase blip in the shortest possible time\n",
    "# dur = np.ceil(2 * np.sqrt(delta_k / system.max_slew) / 10e-6) * 10e-6\n",
    "# gy = pp.make_trapezoid(channel='y', system=system, area=delta_k, duration=dur*R)\n",
    "# \n",
    "# # ======\n",
    "# # CONSTRUCT SEQUENCE\n",
    "# # ======\n",
    "# # Define sequence blocks\n",
    "# for s in range(n_slices):\n",
    "#     rf.freq_offset = gz.amplitude * slice_thickness * (s - (n_slices - 1) / 2)\n",
    "#     seq.add_block(rf, gz)\n",
    "#     seq.add_block(gx_pre, gy_pre, gz_reph)\n",
    "#     for i in range(Ny):\n",
    "#         seq.add_block(gx, adc)  # Read one line of k-space\n",
    "#         seq.add_block(gy)  # Phase blip\n",
    "#         gx.amplitude = -gx.amplitude  # Reverse polarity of read gradient\n",
    "# \n",
    "# ok, error_report = seq.check_timing()\n",
    "# if ok:\n",
    "#     print('Timing check passed successfully')\n",
    "# else:\n",
    "#     print('Timing check failed! Error listing follows:')\n",
    "#     print(error_report)\n",
    "# \n",
    "# \n",
    "# # =========\n",
    "# # WRITE .SEQ\n",
    "# # =========\n",
    "# if write_seq:\n",
    "#     seq.write(seq_filename)"
   ],
   "id": "12f5f18b12e2c4c4",
   "outputs": [
    {
     "name": "stdout",
     "output_type": "stream",
     "text": [
      "Timing check passed successfully\n"
     ]
    }
   ],
   "execution_count": 3
  },
  {
   "metadata": {
    "ExecuteTime": {
     "end_time": "2025-02-02T10:06:41.659261Z",
     "start_time": "2025-02-02T10:06:39.495277Z"
    }
   },
   "cell_type": "code",
   "source": [
    "plot = True\n",
    "write_seq = True\n",
    "seq_filename = 'epi_pypulseq.seq'\n",
    "# ======\n",
    "# SETUP\n",
    "# ======\n",
    "R=1\n",
    "seq = pp.Sequence()  # Create a new sequence object\n",
    "# Define FOV and resolution\n",
    "fov = 220e-3\n",
    "Nx = 64\n",
    "Ny = int(64 * 1/R)\n",
    "TE = 10e-3\n",
    "use_partial_fourier = False\n",
    "if use_partial_fourier:\n",
    "    Ny *= 9/16\n",
    "Ny = int(Ny)\n",
    "\n",
    "slice_thickness = 3e-3  # Slice thickness\n",
    "n_slices = 1\n",
    "\n",
    "# Set system limits\n",
    "system = pp.Opts(\n",
    "    max_grad=32,\n",
    "    grad_unit='mT/m',\n",
    "    max_slew=130,\n",
    "    slew_unit='T/m/s',\n",
    "    rf_ringdown_time=30e-6,\n",
    "    rf_dead_time=100e-6,\n",
    ")\n",
    "\n",
    "# ======\n",
    "# CREATE EVENTS\n",
    "# ======\n",
    "# Create 90 degree slice selection pulse and gradient\n",
    "rf, gz, _ = pp.make_sinc_pulse(\n",
    "    flip_angle=np.pi / 2,\n",
    "    system=system,\n",
    "    duration=3e-3,\n",
    "    slice_thickness=slice_thickness,\n",
    "    apodization=0.5,\n",
    "    time_bw_product=4,\n",
    "    return_gz=True,\n",
    ")\n",
    "\n",
    "# Define other gradients and ADC events\n",
    "delta_k = 1 / fov\n",
    "k_width = Nx * delta_k\n",
    "dwell_time = 4e-6\n",
    "readout_time = Nx * dwell_time\n",
    "flat_time = np.ceil(readout_time * 1e5) * 1e-5  # round-up to the gradient raster\n",
    "gx = pp.make_trapezoid(\n",
    "    channel='x',\n",
    "    system=system,\n",
    "    amplitude=k_width / readout_time,\n",
    "    flat_time=flat_time,\n",
    ")\n",
    "adc = pp.make_adc(\n",
    "    num_samples=Nx,\n",
    "    duration=readout_time,\n",
    "    delay=gx.rise_time + flat_time / 2 - (readout_time - dwell_time) / 2,\n",
    ")\n",
    "\n",
    "# Pre-phasing gradients\n",
    "pre_time = 32e-4\n",
    "gx_pre = pp.make_trapezoid(channel='x', system=system, area=-gx.area / 2, duration=pre_time)\n",
    "gz_reph = pp.make_trapezoid(channel='z', system=system, area=-gz.area / 2, duration=pre_time)\n",
    "gy_pre = pp.make_trapezoid(channel='y', system=system, area=-Ny / 2 * delta_k, duration=pre_time)\n",
    "\n",
    "print(f\"pre y: {-Ny / 2 * delta_k}\")\n",
    "print(\"delta_k: \", delta_k)\n",
    "print(\"Ny: \", Ny)\n",
    "# Phase blip in the shortest possible time\n",
    "dur = np.ceil(2 * np.sqrt(delta_k / system.max_slew) / 10e-6) * 10e-6\n",
    "gy = pp.make_trapezoid(channel='y', system=system, area=delta_k, duration=dur*R)\n",
    "\n",
    "# ======\n",
    "# CONSTRUCT SEQUENCE\n",
    "# ======\n",
    "# Define sequence blocks\n",
    "for s in range(n_slices):\n",
    "    rf.freq_offset = gz.amplitude * slice_thickness * (s - (n_slices - 1) / 2)\n",
    "    seq.add_block(rf, gz)\n",
    "    seq.add_block(gx_pre, gy_pre, gz_reph)\n",
    "    for i in range(Ny):\n",
    "        seq.add_block(gx, adc)  # Read one line of k-space\n",
    "        seq.add_block(gy)  # Phase blip\n",
    "        gx.amplitude = -gx.amplitude  # Reverse polarity of read gradient\n",
    "\n",
    "ok, error_report = seq.check_timing()\n",
    "if ok:\n",
    "    print('Timing check passed successfully')\n",
    "else:\n",
    "    print('Timing check failed! Error listing follows:')\n",
    "    print(error_report)\n",
    "\n",
    "\n",
    "# =========\n",
    "# WRITE .SEQ\n",
    "# =========\n",
    "if write_seq:\n",
    "    seq.write(seq_filename)\n",
    "if plot:\n",
    "    seq.plot()"
   ],
   "id": "5196d809eac730e4",
   "outputs": [
    {
     "name": "stdout",
     "output_type": "stream",
     "text": [
      "pre y: -145.45454545454547\n",
      "delta_k:  4.545454545454546\n",
      "Ny:  64\n",
      "Timing check passed successfully\n"
     ]
    }
   ],
   "execution_count": 6
  },
  {
   "metadata": {
    "ExecuteTime": {
     "end_time": "2025-02-02T10:06:33.574275Z",
     "start_time": "2025-02-02T10:06:28.465974Z"
    }
   },
   "cell_type": "code",
   "source": [
    "seq = mr0.Sequence.import_file(seq_filename)\n",
    "seq.plot_kspace_trajectory()"
   ],
   "id": "7425d59a4488958e",
   "outputs": [],
   "execution_count": 4
  },
  {
   "metadata": {
    "ExecuteTime": {
     "end_time": "2025-02-02T10:06:44.476050Z",
     "start_time": "2025-02-02T10:06:43.433506Z"
    }
   },
   "cell_type": "code",
   "source": [
    "# signal = mr0.util.simulate(seq.cuda())\n",
    "signal = mr0.util.simulate_2d(seq)"
   ],
   "id": "368def5664369a6c",
   "outputs": [
    {
     "name": "stdout",
     "output_type": "stream",
     "text": [
      "DEPRECATED: util.simulate_2d will be removed in the future.\n",
      "Use util.simulate() instead (together with util.load_phantom() if necessary\n",
      "Calculating repetition 1 / 1 - done\n"
     ]
    }
   ],
   "execution_count": 7
  },
  {
   "metadata": {
    "ExecuteTime": {
     "end_time": "2025-02-02T10:07:15.690559Z",
     "start_time": "2025-02-02T10:07:15.686302Z"
    }
   },
   "cell_type": "code",
   "source": "signal.shape",
   "id": "a688b0fa56747581",
   "outputs": [
    {
     "data": {
      "text/plain": [
       "torch.Size([4096, 1])"
      ]
     },
     "execution_count": 10,
     "metadata": {},
     "output_type": "execute_result"
    }
   ],
   "execution_count": 10
  },
  {
   "metadata": {},
   "cell_type": "code",
   "source": "signal.shape[0] / 256",
   "id": "3a8a1288631690e0",
   "outputs": [],
   "execution_count": null
  },
  {
   "metadata": {
    "ExecuteTime": {
     "end_time": "2025-02-02T10:13:02.460711Z",
     "start_time": "2025-02-02T10:12:55.618891Z"
    }
   },
   "cell_type": "code",
   "source": [
    "# Calculate actual acquired lines\n",
    "lines_acquired = Ny\n",
    "\n",
    "# ======\n",
    "# VISUALIZATION\n",
    "# ======\n",
    "plot = True\n",
    "if plot:\n",
    "    signal = mr0.util.simulate_2d(seq)\n",
    "    seq.plot(plot_now=False)\n",
    "    mr0.util.insert_signal_plot(seq=seq, signal=signal.numpy())\n",
    "    plt.show()\n",
    "    plot_signal(signal, lines_acquired, Nx, R)\n",
    "    print(\"hello\")"
   ],
   "id": "355d1e5a8e597260",
   "outputs": [
    {
     "name": "stdout",
     "output_type": "stream",
     "text": [
      "DEPRECATED: util.simulate_2d will be removed in the future.\n",
      "Use util.simulate() instead (together with util.load_phantom() if necessary\n",
      "Calculating repetition 1 / 1 - done\n",
      "hello\n"
     ]
    }
   ],
   "execution_count": 15
  },
  {
   "metadata": {},
   "cell_type": "code",
   "source": "# from partial_fourier_recon import pocs_pf\n",
   "id": "ca768e1d39da0208",
   "outputs": [],
   "execution_count": null
  }
 ],
 "metadata": {
  "kernelspec": {
   "display_name": "Python 3",
   "language": "python",
   "name": "python3"
  },
  "language_info": {
   "codemirror_mode": {
    "name": "ipython",
    "version": 2
   },
   "file_extension": ".py",
   "mimetype": "text/x-python",
   "name": "python",
   "nbconvert_exporter": "python",
   "pygments_lexer": "ipython2",
   "version": "2.7.6"
  }
 },
 "nbformat": 4,
 "nbformat_minor": 5
}
