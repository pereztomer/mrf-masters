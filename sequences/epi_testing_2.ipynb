{
 "cells": [
  {
   "cell_type": "code",
   "id": "initial_id",
   "metadata": {
    "collapsed": true,
    "ExecuteTime": {
     "end_time": "2025-02-02T10:03:22.810492Z",
     "start_time": "2025-02-02T10:02:58.449116Z"
    }
   },
   "source": [
    "import numpy as np\n",
    "import MRzeroCore as mr0\n",
    "import pypulseq as pp\n",
    "import torch\n",
    "import matplotlib.pyplot as plt\n",
    "import matplotlib\n",
    "from seq_utils import plot_signal\n",
    "matplotlib.use('TkAgg')"
   ],
   "outputs": [],
   "execution_count": 1
  },
  {
   "metadata": {
    "ExecuteTime": {
     "end_time": "2025-02-02T10:04:40.325801Z",
     "start_time": "2025-02-02T10:04:40.296801Z"
    }
   },
   "cell_type": "code",
   "source": [
    "plt.rcParams['figure.figsize'] = [10, 5]\n",
    "plt.rcParams['figure.dpi'] = 100 # 200 e.g. is really fine, but slower\n",
    "\n",
    "experiment_id = 'exB09_GRE_EPI_2D'\n",
    "\n",
    "# %% S1. SETUP sys\n",
    "\n",
    "# choose the scanner limits\n",
    "system = pp.Opts(\n",
    "    max_grad=28, grad_unit='mT/m', max_slew=150, slew_unit='T/m/s',\n",
    "    rf_ringdown_time=20e-6, rf_dead_time=100e-6,\n",
    "    adc_dead_time=20e-6, grad_raster_time=10e-6\n",
    ")\n",
    "\n",
    "# %% S2. DEFINE the sequence\n",
    "seq = pp.Sequence()\n",
    "\n",
    "partial_fourier = False\n",
    "# Define FOV and resolution\n",
    "# fov = 240e-3\n",
    "fov = 220e-3\n",
    "\n",
    "slice_thickness = 8e-3\n",
    "Nread = 64    # frequency encoding steps/samples\n",
    "Nphase = 64    # phase encoding steps/samples\n",
    "\n",
    "# Define rf events\n",
    "rf1, _, _ = pp.make_sinc_pulse(\n",
    "    flip_angle=90 * np.pi / 180, duration=1e-3,\n",
    "    slice_thickness=slice_thickness, apodization=0.5, time_bw_product=4,\n",
    "    system=system, return_gz=True\n",
    ")\n",
    "\n",
    "# Define other gradients and ADC events\n",
    "adc_duration_OG = 0.25e-3 # @param {type: \"slider\", min: 0.25e-3, max: 10e-3, step: 0.05e-3}\n",
    "a = int(system.adc_raster_time * Nread * 10**7)\n",
    "b = int(system.grad_raster_time * 10**7)\n",
    "c = int(adc_duration_OG * 10**7)\n",
    "lcm_ab = abs(a * b) // np.gcd(a, b)\n",
    "adc_raster_duration = (lcm_ab if round(c / lcm_ab) == 0 else round(c / lcm_ab) * lcm_ab) / 10**7\n",
    "\n",
    "eddy_currents=True # @param {type:\"boolean\"}\n",
    "eddy_currents_induced_delay= 0.0000015 # @param {type: \"slider\", min: -1e-4, max: 1e-4, step: 1e-8}\n",
    "eddy_currents_induced_delay*=eddy_currents\n",
    "\n",
    "gx = pp.make_trapezoid(channel='x', flat_area=Nread / fov, flat_time=adc_raster_duration, system=system)\n",
    "gx_ = pp.make_trapezoid(channel='x', flat_area=-Nread / fov, flat_time=adc_raster_duration, system=system)\n",
    "adc = pp.make_adc(num_samples=Nread, duration=adc_raster_duration, phase_offset=0 * np.pi / 180, delay=gx.rise_time + eddy_currents_induced_delay, system=system)\n",
    "gx_pre = pp.make_trapezoid(channel='x', area=-gx.area / 2, duration=1e-3, system=system)\n",
    "\n",
    "# ======\n",
    "# CONSTRUCT SEQUENCE\n",
    "# ======\n",
    "blip_duration=0.1e-3 # @param {type: \"slider\", min: 0.1e-3, max: 50e-3, step: 0.05e-3}\n",
    "gp_blip = pp.make_trapezoid(channel='y', area=1/fov, duration=blip_duration, system=system)\n",
    "\n",
    "print(f\"pre y: {-Nphase//2 / fov}\")\n",
    "print(f\"delta k: {1/fov}\")\n",
    "print(f\"Ny: {Nphase}\")\n",
    "seq.add_block(rf1)\n",
    "gp = pp.make_trapezoid(channel='y', area=-Nphase//2 / fov, duration=1e-3, system=system)\n",
    "seq.add_block(gx_pre, gp)\n",
    "\n",
    "if partial_fourier:\n",
    "    for ii in range(0, int((Nphase//2) * 9/16)):\n",
    "        seq.add_block(gx,adc)\n",
    "        seq.add_block(gp_blip)\n",
    "        seq.add_block(gx_,adc)\n",
    "        seq.add_block(gp_blip)\n",
    "else:\n",
    "    for ii in range(0, Nphase//2):\n",
    "        seq.add_block(gx,adc)\n",
    "        seq.add_block(gp_blip)\n",
    "        seq.add_block(gx_,adc)\n",
    "        seq.add_block(gp_blip)\n",
    "        \n",
    "    \n",
    "ok, error_report = seq.check_timing()\n",
    "if ok:\n",
    "    print('Timing check passed successfully')\n",
    "else:\n",
    "    print('Timing check failed! Error listing follows:')\n",
    "    # print(error_report)\n",
    "\n",
    "seq.write(\"epi_testing_2.seq\") "
   ],
   "id": "b588c683e5fadcdc",
   "outputs": [
    {
     "name": "stdout",
     "output_type": "stream",
     "text": [
      "pre y: -145.45454545454547\n",
      "delta k: 4.545454545454546\n",
      "Ny: 64\n",
      "Timing check failed! Error listing follows:\n"
     ]
    },
    {
     "data": {
      "text/plain": [
       "'1ea488039917958bd8e98b60167ed120'"
      ]
     },
     "execution_count": 6,
     "metadata": {},
     "output_type": "execute_result"
    }
   ],
   "execution_count": 6
  },
  {
   "metadata": {
    "ExecuteTime": {
     "end_time": "2025-02-02T10:04:12.240081Z",
     "start_time": "2025-02-02T10:04:01.476608Z"
    }
   },
   "cell_type": "code",
   "source": [
    "seq = mr0.Sequence.import_file(\"epi_testing_2.seq\")\n",
    "seq.plot_kspace_trajectory()"
   ],
   "id": "93cdc3d5099d1f03",
   "outputs": [],
   "execution_count": 3
  },
  {
   "metadata": {
    "ExecuteTime": {
     "end_time": "2025-02-02T10:13:09.473161Z",
     "start_time": "2025-02-02T10:13:04.855450Z"
    }
   },
   "cell_type": "code",
   "source": [
    "#quick 2D brain phantom sim and plot\n",
    "signal = mr0.util.simulate_2d(seq)\n",
    "seq.plot(plot_now=False)\n",
    "mr0.util.insert_signal_plot(seq=seq, signal =signal.numpy())\n",
    "plt.show()"
   ],
   "id": "f15ed97c5955d05c",
   "outputs": [
    {
     "name": "stdout",
     "output_type": "stream",
     "text": [
      "DEPRECATED: util.simulate_2d will be removed in the future.\n",
      "Use util.simulate() instead (together with util.load_phantom() if necessary\n",
      "Calculating repetition 1 / 1 - done\n"
     ]
    }
   ],
   "execution_count": 11
  },
  {
   "metadata": {
    "ExecuteTime": {
     "end_time": "2025-02-02T10:13:15.616455Z",
     "start_time": "2025-02-02T10:13:13.796009Z"
    }
   },
   "cell_type": "code",
   "source": [
    "# ======\n",
    "# VISUALIZATION\n",
    "# ======\n",
    "# seq.plot(plot_now=False)\n",
    "# mr0.util.insert_signal_plot(seq=seq, signal=signal.numpy())\n",
    "# plt.show()\n",
    "plot_signal(signal, Nphase, Nread, 1)\n",
    "print(\"hello\")"
   ],
   "id": "94961834c61d9e61",
   "outputs": [
    {
     "name": "stdout",
     "output_type": "stream",
     "text": [
      "hello\n"
     ]
    }
   ],
   "execution_count": 12
  },
  {
   "metadata": {},
   "cell_type": "code",
   "source": [
    "# %% S6: MR IMAGE RECON of signal ::: #####################################\n",
    "fig = plt.figure(figsize=(10,2))  # fig.clf()\n",
    "\n",
    "if partial_fourier:\n",
    "    kspace_adc = torch.reshape((signal), (int(Nphase * 9/16), Nread)).clone().t()\n",
    "else:\n",
    "    kspace_adc = torch.reshape((signal), (Nphase, Nread)).clone().t()\n",
    "\n",
    "kspace = kspace_adc\n",
    "\n",
    "# add zeros to kspace\n",
    "# kspace = torch.cat((kspace, torch.zeros((Nread, Nphase - kspace.shape[1]))), 1)\n",
    "kspace[:,0::2] = torch.flip(kspace[:,0::2],[0] )[:,:]\n",
    "# fftshift FFT fftshift\n",
    "\n",
    "# add rows to 0 to kspace\n",
    "# kspace = torch.cat((kspace, torch.zeros((Nread, 15))), 1)\n",
    "# kspace = torch.cat((torch.zeros((Nread, 15)), kspace), 1)\n",
    "spectrum = torch.fft.fftshift(kspace)\n",
    "space = torch.fft.fft2(spectrum)\n",
    "space = torch.fft.ifftshift(space)\n",
    "\n",
    "plt.subplot(141)\n",
    "plt.title('k-space')\n",
    "mr0.util.imshow(np.abs(kspace.numpy()))\n",
    "plt.subplot(142)\n",
    "plt.title('log. k-space')\n",
    "mr0.util.imshow(np.log(np.abs(kspace.numpy())))\n",
    "\n",
    "plt.subplot(143)\n",
    "plt.title('FFT-magnitude')\n",
    "mr0.util.imshow(np.abs(space.numpy()))\n",
    "plt.colorbar()\n",
    "plt.subplot(144)\n",
    "plt.title('FFT-phase')\n",
    "mr0.util.imshow(np.angle(space.numpy()), vmin=-np.pi, vmax=np.pi)\n",
    "plt.colorbar()"
   ],
   "id": "71f1603c0a99bb4d",
   "outputs": [],
   "execution_count": null
  },
  {
   "metadata": {},
   "cell_type": "code",
   "source": [
    "kspace.shape\n",
    "# convert to numpy:\n",
    "kspace_np = kspace.numpy()\n",
    "# add dims to kspace_np\n",
    "kspace_np = np.expand_dims(kspace_np, axis=0)\n",
    "from partial_fourier_recon import pocs_pf\n",
    "kspace_recon = pocs_pf(kspace_np, 10)\n",
    "# drop o and last dim from kspace_recon\n",
    "kspace_recon = kspace_recon.squeeze()\n",
    "kspace_recon.shape"
   ],
   "id": "32f4ca8d1bf85af3",
   "outputs": [],
   "execution_count": null
  },
  {
   "metadata": {},
   "cell_type": "code",
   "source": [
    "# # kspFull_kxkycz, kspZpad_kxkycz = partial_fourier_recon.pf_recon_pocs_ms2d(kspace, 10)\n",
    "# # transpose the test data using torch\n",
    "# kspace = torch.tensor(kspace)\n",
    "# kspace = kspace.squeeze()\n",
    "# spectrum = torch.fft.fftshift(kspace)\n",
    "# space = torch.fft.fft2(spectrum)\n",
    "# space = torch.fft.ifftshift(space)\n",
    "\n",
    "plt.subplot(141)\n",
    "plt.title('k-space')\n",
    "mr0.util.imshow(np.abs(kspace_recon))\n",
    "plt.subplot(142)\n",
    "plt.title('log. k-space')\n",
    "mr0.util.imshow(np.log(np.abs(kspace_recon)+1))\n",
    "\n",
    "spectrum_recon = np.fft.fftshift(kspace_recon)\n",
    "space_recon = np.fft.fft2(spectrum_recon)\n",
    "space_recon = np.fft.ifftshift(space_recon)\n",
    "\n",
    "plt.subplot(143)\n",
    "plt.title('FFT-magnitude')\n",
    "mr0.util.imshow(np.abs(space_recon))\n",
    "plt.colorbar()\n",
    "plt.subplot(144)\n",
    "plt.title('FFT-phase')\n",
    "mr0.util.imshow(np.angle(space_recon), vmin=-np.pi, vmax=np.pi)\n",
    "plt.colorbar()"
   ],
   "id": "492b0cdd5294c291",
   "outputs": [],
   "execution_count": null
  }
 ],
 "metadata": {
  "kernelspec": {
   "display_name": "Python 3",
   "language": "python",
   "name": "python3"
  },
  "language_info": {
   "codemirror_mode": {
    "name": "ipython",
    "version": 2
   },
   "file_extension": ".py",
   "mimetype": "text/x-python",
   "name": "python",
   "nbconvert_exporter": "python",
   "pygments_lexer": "ipython2",
   "version": "2.7.6"
  }
 },
 "nbformat": 4,
 "nbformat_minor": 5
}
